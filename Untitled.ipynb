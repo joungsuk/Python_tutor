{
 "cells": [
  {
   "cell_type": "markdown",
   "id": "75095aa4-eda3-4bcd-869e-f0bc9b28fcb7",
   "metadata": {},
   "source": [
    "# This is a level 1 heading\n",
    "\n",
    "## This is a level 2 heading\n",
    "\n",
    "This is some plain text that forms a paragraph. Add emphasis via **bold** or __bold__, and *italic* or _italic_.\n",
    "\n",
    "Paragraphs must be separated by an empty line.\n",
    "\n",
    "* Sometimes we want to include lists.\n",
    "* Which can be bulleted using asterisks.\n",
    "\n",
    "1. Lists can also be numbered.\n",
    "2. If we want an ordered list.\n",
    "\n",
    "[It is possible to include hyperlinks](https://www.dataquest.io)\n",
    "\n",
    "Inline code uses single backticks: `foo()`, and code blocks use triple backticks:\n",
    "```\n",
    "bar()\n",
    "```\n",
    "Or can be indented by 4 spaces:\n",
    "```\n",
    "    foo()\n",
    "```\n",
    "\n",
    "And finally, adding images is easy: ![Alt text](https://www.dataquest.io/wp-content/uploads/2023/02/DQ-Logo.svg)"
   ]
  },
  {
   "cell_type": "code",
   "execution_count": 19,
   "id": "82c22150-3e37-4341-af12-8a50274d7704",
   "metadata": {},
   "outputs": [
    {
     "name": "stdout",
     "output_type": "stream",
     "text": [
      "7.94 μs ± 39.2 ns per loop (mean ± std. dev. of 7 runs, 100,000 loops each)\n"
     ]
    }
   ],
   "source": [
    "%\n",
    "%timeit for i in range(1000): True"
   ]
  },
  {
   "cell_type": "markdown",
   "id": "b633af31-cbd7-4c1d-8c67-949accd5d0b5",
   "metadata": {},
   "source": [
    "> 인용구"
   ]
  },
  {
   "cell_type": "code",
   "execution_count": null,
   "id": "d196fbfe-32c9-42bf-b75c-23c6cde544ae",
   "metadata": {},
   "outputs": [],
   "source": []
  }
 ],
 "metadata": {
  "kernelspec": {
   "display_name": "Python 3 (ipykernel)",
   "language": "python",
   "name": "python3"
  },
  "language_info": {
   "codemirror_mode": {
    "name": "ipython",
    "version": 3
   },
   "file_extension": ".py",
   "mimetype": "text/x-python",
   "name": "python",
   "nbconvert_exporter": "python",
   "pygments_lexer": "ipython3",
   "version": "3.12.4"
  }
 },
 "nbformat": 4,
 "nbformat_minor": 5
}
