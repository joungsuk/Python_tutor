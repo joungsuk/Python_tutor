{
 "cells": [
  {
   "cell_type": "markdown",
   "metadata": {},
   "source": []
  },
  {
   "cell_type": "markdown",
   "metadata": {},
   "source": [
    "## 마크 다운 레퍼런스 문서\n",
    "\n",
    "[한글 가이드](https://gist.github.com/ihoneymon/652be052a0727ad59601)  \n",
    "[마크 다운 레퍼런스 문서](https://www.markdownguide.org/cheat-sheet/)  \n",
    "[DARING FIREBALL](https://daringfireball.net/projects/markdown/basics)\n"
   ]
  },
  {
   "cell_type": "markdown",
   "metadata": {},
   "source": []
  },
  {
   "cell_type": "markdown",
   "metadata": {},
   "source": []
  },
  {
   "cell_type": "markdown",
   "metadata": {},
   "source": [
    "### Title\n",
    "text\n",
    "\n",
    "* text1\n",
    "* text2\n",
    "\n",
    "    code\n",
    "    \n",
    "    block\n",
    "\n",
    "> aaaa\n",
    "\n",
    "# 링크 예제\n",
    "\n",
    "http://www.google.com\n",
    "\n",
    "[구글](http://www.google.com)\n",
    "\n",
    "\n",
    "\n",
    "# 이미지 예제\n",
    "\n",
    "![이미지](https://www.google.com/images/branding/googlelogo/1x/googlelogo_color_272x92dp.png)\n",
    "\n",
    "\n"
   ]
  },
  {
   "cell_type": "markdown",
   "metadata": {},
   "source": []
  },
  {
   "cell_type": "code",
   "execution_count": 1,
   "metadata": {},
   "outputs": [
    {
     "name": "stdout",
     "output_type": "stream",
     "text": [
      "7.93 μs ± 123 ns per loop (mean ± std. dev. of 7 runs, 100,000 loops each)\n"
     ]
    }
   ],
   "source": [
    "%timeit for i in range(1000): pass\n"
   ]
  },
  {
   "cell_type": "code",
   "execution_count": null,
   "metadata": {},
   "outputs": [],
   "source": []
  }
 ],
 "metadata": {
  "kernelspec": {
   "display_name": ".venv",
   "language": "python",
   "name": "python3"
  },
  "language_info": {
   "codemirror_mode": {
    "name": "ipython",
    "version": 3
   },
   "file_extension": ".py",
   "mimetype": "text/x-python",
   "name": "python",
   "nbconvert_exporter": "python",
   "pygments_lexer": "ipython3",
   "version": "3.12.4"
  }
 },
 "nbformat": 4,
 "nbformat_minor": 2
}
